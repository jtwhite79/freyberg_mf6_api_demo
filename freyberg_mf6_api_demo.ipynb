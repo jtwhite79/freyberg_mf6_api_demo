{
 "cells": [
  {
   "cell_type": "code",
   "execution_count": null,
   "id": "6aadb009",
   "metadata": {},
   "outputs": [],
   "source": [
    "import os\n",
    "import shutil\n",
    "import platform\n",
    "import numpy as np\n",
    "import flopy\n",
    "import modflowapi\n"
   ]
  },
  {
   "cell_type": "code",
   "execution_count": null,
   "id": "b65da487",
   "metadata": {},
   "outputs": [],
   "source": [
    "if \"linux\" in platform.platform().lower():\n",
    "    lib_path = os.path.join(\"bin\",\"linux\",\"libmf6.so\")\n",
    "    exe_path = os.path.join(\"bin\",\"linux\",\"mf6\")\n",
    "elif \"darwin\" in platform.platform().lower() or \"macos\" in platform.platform().lower() :\n",
    "    lib_path = os.path.join(\"bin\",\"mac\",\"libmf6.so\")\n",
    "    exe_path = os.path.join(\"bin\",\"mac\",\"mf6\")\n",
    "else:\n",
    "    lib_path = os.path.join(\"bin\",\"win\",\"libmf6.dll\")\n",
    "    exe_path = os.path.join(\"bin\",\"win\",\"mf6.exe\")     \n",
    "\n"
   ]
  },
  {
   "cell_type": "code",
   "execution_count": null,
   "id": "4de5d5e9",
   "metadata": {},
   "outputs": [],
   "source": [
    "org_dir = \"monthly_model_files_org\"\n",
    "work_dir = \"temp\"\n",
    "if os.path.exists(work_dir):\n",
    "    shutil.rmtree(work_dir)\n",
    "shutil.copytree(org_dir,work_dir)\n",
    "shutil.copy2(lib_path,os.path.join(work_dir,os.path.split(lib_path)[-1]))\n",
    "shutil.copy2(exe_path,os.path.join(work_dir,os.path.split(exe_path)[-1]))\n",
    "lib_name = os.path.split(lib_path)[-1]\n",
    "exe_name = os.path.split(exe_path)[-1]"
   ]
  },
  {
   "cell_type": "code",
   "execution_count": null,
   "id": "1e6122c9",
   "metadata": {},
   "outputs": [],
   "source": []
  },
  {
   "cell_type": "code",
   "execution_count": null,
   "id": "c9472ac9",
   "metadata": {},
   "outputs": [],
   "source": [
    "c_d = os.getcwd()\n",
    "os.chdir(work_dir)\n",
    "os.system(\"mf6\")\n",
    "os.chdir(c_d)"
   ]
  },
  {
   "cell_type": "code",
   "execution_count": null,
   "id": "7a883ee1",
   "metadata": {},
   "outputs": [],
   "source": [
    "api_dir1 = \"api1\"\n",
    "if os.path.exists(api_dir1):\n",
    "    shutil.rmtree(api_dir1)\n",
    "shutil.copytree(org_dir,api_dir1)\n",
    "shutil.copy2(lib_path,os.path.join(api_dir1,os.path.split(lib_path)[-1]))\n",
    "shutil.copy2(exe_path,os.path.join(api_dir1,os.path.split(exe_path)[-1]))"
   ]
  },
  {
   "cell_type": "code",
   "execution_count": null,
   "id": "988fb97a",
   "metadata": {},
   "outputs": [],
   "source": [
    "gwf = modflowapi.ModflowApi(os.path.join(api_dir1, lib_name), working_directory=api_dir1)\n",
    "gwf.initialize()"
   ]
  },
  {
   "cell_type": "code",
   "execution_count": null,
   "id": "e24980fa",
   "metadata": {},
   "outputs": [],
   "source": [
    "# get current sim time\n",
    "ctime = gwf.get_current_time()\n",
    "# get ending sim time\n",
    "etime = gwf.get_end_time()\n",
    "# max number of iterations\n",
    "max_iter = gwf.get_value(gwf.get_var_address(\"MXITER\", \"SLN_1\"))\n",
    "# let's do it!\n",
    "while ctime < etime:\n",
    "    # the length of this sim time\n",
    "    dt = gwf.get_time_step()\n",
    "    # prep the current time step\n",
    "    gwf.prepare_time_step(dt)\n",
    "    kiter = 0\n",
    "    # prep to solve\n",
    "    gwf.prepare_solve(1)\n",
    "    # the current one-based stress period number\n",
    "    stress_period = gwf.get_value(gwf.get_var_address(\"KPER\", \"TDIS\"))[0]\n",
    "    time_step = gwf.get_value(gwf.get_var_address(\"KSTP\", \"TDIS\"))[0]\n",
    "    # solve until converged\n",
    "    while kiter < max_iter:\n",
    "        if gwf.solve(1):\n",
    "            print(\"flow stress period {0} converged with {1} iters\".format(stress_period, kiter))\n",
    "            break\n",
    "\n",
    "        kiter += 1\n",
    "    try:\n",
    "        gwf.finalize_solve(1)\n",
    "    except:\n",
    "        pass\n",
    "\n",
    "    gwf.finalize_time_step()\n",
    "    # update current sim time\n",
    "    ctime = gwf.get_current_time()\n",
    "gwf.finalize()"
   ]
  },
  {
   "cell_type": "markdown",
   "id": "e96ca326",
   "metadata": {},
   "source": [
    "Now let's do something more exciting.  We can use the API interface to build in operational rules for the pumping wells.  If the sfr downstream flow for the terminal reach is too low, we need to pump less, if the flow is high, we can pump more."
   ]
  },
  {
   "cell_type": "code",
   "execution_count": null,
   "id": "7335f972",
   "metadata": {},
   "outputs": [],
   "source": [
    "api_dir2 = \"api2\"\n",
    "if os.path.exists(api_dir2):\n",
    "    shutil.rmtree(api_dir2)\n",
    "shutil.copytree(org_dir,api_dir2)\n",
    "shutil.copy2(lib_path,os.path.join(api_dir2,os.path.split(lib_path)[-1]))\n",
    "shutil.copy2(exe_path,os.path.join(api_dir2,os.path.split(exe_path)[-1]))"
   ]
  },
  {
   "cell_type": "code",
   "execution_count": null,
   "id": "a24fbea3",
   "metadata": {},
   "outputs": [],
   "source": [
    "gwf = modflowapi.ModflowApi(os.path.join(api_dir2, lib_name), working_directory=api_dir2)\n",
    "gwf.initialize()"
   ]
  },
  {
   "cell_type": "code",
   "execution_count": null,
   "id": "fd42d51d",
   "metadata": {
    "scrolled": false
   },
   "outputs": [],
   "source": [
    "# get current sim time\n",
    "ctime = gwf.get_current_time()\n",
    "# get ending sim time\n",
    "etime = gwf.get_end_time()\n",
    "# max number of iterations\n",
    "max_iter = gwf.get_value(gwf.get_var_address(\"MXITER\", \"SLN_1\"))\n",
    "# let's do it!\n",
    "while ctime < etime:\n",
    "    # the length of this sim time\n",
    "    dt = gwf.get_time_step()\n",
    "    # prep the current time step\n",
    "    gwf.prepare_time_step(dt)\n",
    "    kiter = 0\n",
    "    # prep to solve\n",
    "    gwf.prepare_solve(1)\n",
    "    # the current one-based stress period number\n",
    "    stress_period = gwf.get_value(gwf.get_var_address(\"KPER\", \"TDIS\"))[0]\n",
    "    time_step = gwf.get_value(gwf.get_var_address(\"KSTP\", \"TDIS\"))[0]\n",
    "    # solve until converged\n",
    "    while kiter < max_iter:\n",
    "        \n",
    "        # if we have solved at least once and the solution is converged\n",
    "        if gwf.solve(1) and kiter > 1:\n",
    "            # get the sfr dsflow rate for the last reach\n",
    "            addr = [\"DSFLOW\", \"FREYBERG6\", \"SFR_1\"]\n",
    "            wbaddr = gwf.get_var_address(*addr)\n",
    "            sfr_dsflow = gwf.get_value(wbaddr)\n",
    "            print(\"flow stress period {0} converged with {1} iters, final sfr:{2:5.2f}\".\\\n",
    "                  format(stress_period, kiter,sfr_dsflow[-1]))\n",
    "            break\n",
    "        \n",
    "        # get the sfr dsflow rate for the last reach\n",
    "        addr = [\"DSFLOW\", \"FREYBERG6\", \"SFR_1\"]\n",
    "        wbaddr = gwf.get_var_address(*addr)\n",
    "        sfr_dsflow = gwf.get_value(wbaddr)\n",
    "        \n",
    "        #get the wel extraction rates\n",
    "        \"FREYBERG6/WEL-1                   BOUND\"\n",
    "        addr = [\"BOUND\", \"FREYBERG6\", \"WEl-1\"]\n",
    "        wbaddr = gwf.get_var_address(*addr)\n",
    "        wel_bound = gwf.get_value_ptr(wbaddr)\n",
    "        org = np.sum(wel_bound)\n",
    "        \n",
    "        # if the flow is too low, turn down the wells\n",
    "        if sfr_dsflow[-1] < 2500:\n",
    "            wel_bound[:] *= 0.8\n",
    "        #otherewise if there is extra flow, turn up the wells\n",
    "        elif sfr_dsflow[-1] > 3000:\n",
    "            wel_bound[:] *= 1.5\n",
    "        \n",
    "        print(\"  ---  iter:{0}, sfr:{1:5.2f} org wel:{2:5.2f} new wel:{3:5.2f}\".\\\n",
    "              format(kiter,sfr_dsflow[-1],org,np.sum(wel_bound)))\n",
    "        kiter += 1\n",
    "    try:\n",
    "        gwf.finalize_solve(1)\n",
    "    except:\n",
    "        pass\n",
    "    \n",
    "    \n",
    "    gwf.finalize_time_step()\n",
    "    # update current sim time\n",
    "    ctime = gwf.get_current_time()\n",
    "    "
   ]
  },
  {
   "cell_type": "code",
   "execution_count": null,
   "id": "6ebaab6d",
   "metadata": {},
   "outputs": [],
   "source": []
  }
 ],
 "metadata": {
  "kernelspec": {
   "display_name": "Python 3 (ipykernel)",
   "language": "python",
   "name": "python3"
  },
  "language_info": {
   "codemirror_mode": {
    "name": "ipython",
    "version": 3
   },
   "file_extension": ".py",
   "mimetype": "text/x-python",
   "name": "python",
   "nbconvert_exporter": "python",
   "pygments_lexer": "ipython3",
   "version": "3.8.2"
  }
 },
 "nbformat": 4,
 "nbformat_minor": 5
}
