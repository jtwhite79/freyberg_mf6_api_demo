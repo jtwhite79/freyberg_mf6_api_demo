{
 "cells": [
  {
   "cell_type": "markdown",
   "id": "2c2561c3",
   "metadata": {},
   "source": [
    "In this notebook, we will see a very simple demonstration of using the MODFLOW-6 API capability for, you guessed, the Freyberg model...\n",
    "\n",
    "First import as usual..."
   ]
  },
  {
   "cell_type": "code",
   "execution_count": 1,
   "id": "6aadb009",
   "metadata": {},
   "outputs": [],
   "source": [
    "import os\n",
    "import shutil\n",
    "import platform\n",
    "import numpy as np\n",
    "import pandas as pd\n",
    "import matplotlib.pyplot as plt\n",
    "import flopy\n",
    "import modflowapi\n"
   ]
  },
  {
   "cell_type": "markdown",
   "id": "9510d44e",
   "metadata": {},
   "source": [
    "We can use pre-compiled mf6 binaries"
   ]
  },
  {
   "cell_type": "code",
   "execution_count": 2,
   "id": "b65da487",
   "metadata": {},
   "outputs": [],
   "source": [
    "if \"linux\" in platform.platform().lower():\n",
    "    lib_path = os.path.join(\"bin\",\"linux\",\"libmf6.so\")\n",
    "    exe_path = os.path.join(\"bin\",\"linux\",\"mf6\")\n",
    "elif \"darwin\" in platform.platform().lower() or \"macos\" in platform.platform().lower() :\n",
    "    lib_path = os.path.join(\"bin\",\"mac\",\"libmf6.so\")\n",
    "    exe_path = os.path.join(\"bin\",\"mac\",\"mf6\")\n",
    "else:\n",
    "    lib_path = os.path.join(\"bin\",\"win\",\"libmf6.dll\")\n",
    "    exe_path = os.path.join(\"bin\",\"win\",\"mf6.exe\")     \n",
    "\n"
   ]
  },
  {
   "cell_type": "markdown",
   "id": "5bba9aea",
   "metadata": {},
   "source": [
    "Copy the original model files to a working dir and get the binaries into that dir"
   ]
  },
  {
   "cell_type": "code",
   "execution_count": 3,
   "id": "4de5d5e9",
   "metadata": {},
   "outputs": [],
   "source": [
    "org_dir = \"monthly_model_files_org\"\n",
    "work_dir = \"temp\"\n",
    "if os.path.exists(work_dir):\n",
    "    shutil.rmtree(work_dir)\n",
    "shutil.copytree(org_dir,work_dir)\n",
    "shutil.copy2(lib_path,os.path.join(work_dir,os.path.split(lib_path)[-1]))\n",
    "shutil.copy2(exe_path,os.path.join(work_dir,os.path.split(exe_path)[-1]))\n",
    "lib_name = os.path.split(lib_path)[-1]\n",
    "exe_name = os.path.split(exe_path)[-1]"
   ]
  },
  {
   "cell_type": "markdown",
   "id": "c20f6cbd",
   "metadata": {},
   "source": [
    "Now just run standard mf6"
   ]
  },
  {
   "cell_type": "code",
   "execution_count": 4,
   "id": "c9472ac9",
   "metadata": {},
   "outputs": [
    {
     "name": "stdout",
     "output_type": "stream",
     "text": [
      "                                   MODFLOW 6\n",
      "                U.S. GEOLOGICAL SURVEY MODULAR HYDROLOGIC MODEL\n",
      "                   VERSION 6.3.0 release candidate 07/30/2021\n",
      "                               ***DEVELOP MODE***\n",
      "\n",
      "   MODFLOW 6 compiled Dec 29 2021 09:30:50 with Intel(R) Fortran Intel(R) 64\n",
      "   Compiler for applications running on Intel(R) 64, Version 19.1.3.301 Build\n",
      "                                20200925_000000\n",
      "\n",
      "This software is preliminary or provisional and is subject to \n",
      "revision. It is being provided to meet the need for timely best \n",
      "science. The software has not received final approval by the U.S. \n",
      "Geological Survey (USGS). No warranty, expressed or implied, is made \n",
      "by the USGS or the U.S. Government as to the functionality of the \n",
      "software and related material nor shall the fact of release \n",
      "constitute any such warranty. The software is provided on the \n",
      "condition that neither the USGS nor the U.S. Government shall be held \n",
      "liable for any damages resulting from the authorized or unauthorized \n",
      "use of the software.\n",
      "\n",
      " \n",
      " Run start date and time (yyyy/mm/dd hh:mm:ss): 2022/01/21 10:08:44\n",
      " \n",
      " Writing simulation list file: mfsim.lst\n",
      " Using Simulation name file: mfsim.nam\n",
      " \n",
      "    Solving:  Stress period:     1    Time step:     1\n",
      "    Solving:  Stress period:     2    Time step:     1\n",
      "    Solving:  Stress period:     3    Time step:     1\n",
      "    Solving:  Stress period:     4    Time step:     1\n",
      "    Solving:  Stress period:     5    Time step:     1\n",
      "    Solving:  Stress period:     6    Time step:     1\n",
      "    Solving:  Stress period:     7    Time step:     1\n",
      "    Solving:  Stress period:     8    Time step:     1\n",
      "    Solving:  Stress period:     9    Time step:     1\n",
      "    Solving:  Stress period:    10    Time step:     1\n",
      "    Solving:  Stress period:    11    Time step:     1\n",
      "    Solving:  Stress period:    12    Time step:     1\n",
      "    Solving:  Stress period:    13    Time step:     1\n",
      "    Solving:  Stress period:    14    Time step:     1\n",
      "    Solving:  Stress period:    15    Time step:     1\n",
      "    Solving:  Stress period:    16    Time step:     1\n",
      "    Solving:  Stress period:    17    Time step:     1\n",
      "    Solving:  Stress period:    18    Time step:     1\n",
      "    Solving:  Stress period:    19    Time step:     1\n",
      "    Solving:  Stress period:    20    Time step:     1\n",
      "    Solving:  Stress period:    21    Time step:     1\n",
      "    Solving:  Stress period:    22    Time step:     1\n",
      "    Solving:  Stress period:    23    Time step:     1\n",
      "    Solving:  Stress period:    24    Time step:     1\n",
      "    Solving:  Stress period:    25    Time step:     1\n",
      " \n",
      " Run end date and time (yyyy/mm/dd hh:mm:ss): 2022/01/21 10:08:45\n",
      " Elapsed run time:  0.401 Seconds\n",
      " \n",
      "\n",
      "WARNING REPORT:\n",
      "\n",
      "  1. NONLINEAR BLOCK VARIABLE 'OUTER_HCLOSE' IN FILE 'freyberg6.ims' WAS\n",
      "     DEPRECATED IN VERSION 6.1.1. SETTING OUTER_DVCLOSE TO OUTER_HCLOSE VALUE.\n",
      "  2. LINEAR BLOCK VARIABLE 'INNER_HCLOSE' IN FILE 'freyberg6.ims' WAS\n",
      "     DEPRECATED IN VERSION 6.1.1. SETTING INNER_DVCLOSE TO INNER_HCLOSE VALUE.\n",
      " Normal termination of simulation.\n"
     ]
    }
   ],
   "source": [
    "c_d = os.getcwd()\n",
    "os.chdir(work_dir)\n",
    "os.system(\"mf6\")\n",
    "os.chdir(c_d)"
   ]
  },
  {
   "cell_type": "markdown",
   "id": "66c41feb",
   "metadata": {},
   "source": [
    "Now lets see how the API is used - first just replicate the standard MF6 solution"
   ]
  },
  {
   "cell_type": "code",
   "execution_count": 5,
   "id": "7a883ee1",
   "metadata": {},
   "outputs": [
    {
     "data": {
      "text/plain": [
       "'api1/mf6'"
      ]
     },
     "execution_count": 5,
     "metadata": {},
     "output_type": "execute_result"
    }
   ],
   "source": [
    "api_dir1 = \"api1\"\n",
    "if os.path.exists(api_dir1):\n",
    "    shutil.rmtree(api_dir1)\n",
    "shutil.copytree(org_dir,api_dir1)\n",
    "shutil.copy2(lib_path,os.path.join(api_dir1,os.path.split(lib_path)[-1]))\n",
    "shutil.copy2(exe_path,os.path.join(api_dir1,os.path.split(exe_path)[-1]))"
   ]
  },
  {
   "cell_type": "markdown",
   "id": "07cd6663",
   "metadata": {},
   "source": [
    "Create a `ModflowApi` instance for our model and initialize it"
   ]
  },
  {
   "cell_type": "code",
   "execution_count": 6,
   "id": "988fb97a",
   "metadata": {},
   "outputs": [],
   "source": [
    "gwf = modflowapi.ModflowApi(os.path.join(api_dir1, lib_name), working_directory=api_dir1)\n",
    "gwf.initialize()"
   ]
  },
  {
   "cell_type": "markdown",
   "id": "2561b484",
   "metadata": {},
   "source": [
    "Now march thru the stress periods and solve as usual..."
   ]
  },
  {
   "cell_type": "code",
   "execution_count": 7,
   "id": "e24980fa",
   "metadata": {},
   "outputs": [
    {
     "name": "stdout",
     "output_type": "stream",
     "text": [
      "flow stress period,time step 1,1 converged with 5 iters\n",
      "flow stress period,time step 2,1 converged with 1 iters\n",
      "flow stress period,time step 3,1 converged with 1 iters\n",
      "flow stress period,time step 4,1 converged with 1 iters\n",
      "flow stress period,time step 5,1 converged with 1 iters\n",
      "flow stress period,time step 6,1 converged with 1 iters\n",
      "flow stress period,time step 7,1 converged with 1 iters\n",
      "flow stress period,time step 8,1 converged with 1 iters\n",
      "flow stress period,time step 9,1 converged with 1 iters\n",
      "flow stress period,time step 10,1 converged with 1 iters\n",
      "flow stress period,time step 11,1 converged with 1 iters\n",
      "flow stress period,time step 12,1 converged with 1 iters\n",
      "flow stress period,time step 13,1 converged with 1 iters\n",
      "flow stress period,time step 14,1 converged with 1 iters\n",
      "flow stress period,time step 15,1 converged with 1 iters\n",
      "flow stress period,time step 16,1 converged with 1 iters\n",
      "flow stress period,time step 17,1 converged with 1 iters\n",
      "flow stress period,time step 18,1 converged with 1 iters\n",
      "flow stress period,time step 19,1 converged with 1 iters\n",
      "flow stress period,time step 20,1 converged with 1 iters\n",
      "flow stress period,time step 21,1 converged with 1 iters\n",
      "flow stress period,time step 22,1 converged with 1 iters\n",
      "flow stress period,time step 23,1 converged with 1 iters\n",
      "flow stress period,time step 24,1 converged with 1 iters\n",
      "flow stress period,time step 25,1 converged with 1 iters\n"
     ]
    }
   ],
   "source": [
    "# get current sim time\n",
    "ctime = gwf.get_current_time()\n",
    "# get ending sim time\n",
    "etime = gwf.get_end_time()\n",
    "# max number of iterations\n",
    "max_iter = gwf.get_value(gwf.get_var_address(\"MXITER\", \"SLN_1\"))\n",
    "# let's do it!\n",
    "while ctime < etime:\n",
    "    # the length of this sim time\n",
    "    dt = gwf.get_time_step()\n",
    "    # prep the current time step\n",
    "    gwf.prepare_time_step(dt)\n",
    "    kiter = 0\n",
    "    # prep to solve\n",
    "    gwf.prepare_solve(1)\n",
    "    # the current one-based stress period number\n",
    "    stress_period = gwf.get_value(gwf.get_var_address(\"KPER\", \"TDIS\"))[0]\n",
    "    time_step = gwf.get_value(gwf.get_var_address(\"KSTP\", \"TDIS\"))[0]\n",
    "    # solve until converged\n",
    "    while kiter < max_iter:\n",
    "        if gwf.solve(1):\n",
    "            print(\"flow stress period,time step {0},{1} converged with {2} iters\".\\\n",
    "                  format(stress_period, time_step, kiter))\n",
    "            break\n",
    "\n",
    "        kiter += 1\n",
    "    try:\n",
    "        gwf.finalize_solve(1)\n",
    "    except:\n",
    "        pass\n",
    "\n",
    "    gwf.finalize_time_step()\n",
    "    # update current sim time\n",
    "    ctime = gwf.get_current_time()\n",
    "gwf.finalize()"
   ]
  },
  {
   "cell_type": "markdown",
   "id": "20339a1d",
   "metadata": {},
   "source": [
    "Now let's do something more exciting.  We can use the API interface to build in operational rules for the pumping wells.  If the sfr downstream flow for the terminal reach is too low, we need to pump less, if the flow is high, we can pump more."
   ]
  },
  {
   "cell_type": "code",
   "execution_count": 8,
   "id": "7335f972",
   "metadata": {},
   "outputs": [
    {
     "data": {
      "text/plain": [
       "'api2/mf6'"
      ]
     },
     "execution_count": 8,
     "metadata": {},
     "output_type": "execute_result"
    }
   ],
   "source": [
    "api_dir2 = \"api2\"\n",
    "if os.path.exists(api_dir2):\n",
    "    shutil.rmtree(api_dir2)\n",
    "shutil.copytree(org_dir,api_dir2)\n",
    "shutil.copy2(lib_path,os.path.join(api_dir2,os.path.split(lib_path)[-1]))\n",
    "shutil.copy2(exe_path,os.path.join(api_dir2,os.path.split(exe_path)[-1]))"
   ]
  },
  {
   "cell_type": "code",
   "execution_count": 9,
   "id": "a24fbea3",
   "metadata": {},
   "outputs": [],
   "source": [
    "gwf = modflowapi.ModflowApi(os.path.join(api_dir2, lib_name), working_directory=api_dir2)\n",
    "gwf.initialize()"
   ]
  },
  {
   "cell_type": "markdown",
   "id": "7c50c3c0",
   "metadata": {},
   "source": [
    "Now we use march thru stess periods as before, but within the outer iteration loop, we will attempt some \"management\" to link the groundwater extraction rates to surface-water flow.  If the surface-water flow at the terminal downstream reach is less than 2,500, reduce the pumping rates.  Otherwise, if the surface-water flow is greater than 3,000, lets pump more!"
   ]
  },
  {
   "cell_type": "code",
   "execution_count": 10,
   "id": "fd42d51d",
   "metadata": {
    "scrolled": false
   },
   "outputs": [
    {
     "name": "stdout",
     "output_type": "stream",
     "text": [
      "  ---  iter:0, sfr:3907.46 org wel:-900.00 new wel:-1350.00\n",
      "  ---  iter:1, sfr:3790.98 org wel:-1350.00 new wel:-2025.00\n",
      "  ---  iter:2, sfr:2109.96 org wel:-2025.00 new wel:-1620.00\n",
      "  ---  iter:3, sfr:1484.91 org wel:-1620.00 new wel:-1296.00\n",
      "  ---  iter:4, sfr:1646.62 org wel:-1296.00 new wel:-1036.80\n",
      "  ---  iter:5, sfr:1668.47 org wel:-1036.80 new wel:-829.44\n",
      "  ---  iter:6, sfr:1692.51 org wel:-829.44 new wel:-663.55\n",
      "  ---  iter:7, sfr:2227.05 org wel:-663.55 new wel:-530.84\n",
      "  ---  iter:8, sfr:2420.25 org wel:-530.84 new wel:-424.67\n",
      "  ---  iter:9, sfr:2538.17 org wel:-424.67 new wel:-424.67\n",
      "flow stress period,time step 1,1 converged with 10 iters, final sfr:2618.07\n",
      "  ---  iter:0, sfr:2623.63 org wel:-900.05 new wel:-900.05\n",
      "  ---  iter:1, sfr:2865.15 org wel:-900.05 new wel:-900.05\n",
      "flow stress period,time step 2,1 converged with 2 iters, final sfr:2873.98\n",
      "  ---  iter:0, sfr:2874.13 org wel:-900.53 new wel:-900.53\n",
      "  ---  iter:1, sfr:3353.53 org wel:-900.53 new wel:-1350.80\n",
      "  ---  iter:2, sfr:3366.08 org wel:-1350.80 new wel:-2026.20\n",
      "  ---  iter:3, sfr:3353.13 org wel:-2026.20 new wel:-3039.30\n",
      "  ---  iter:4, sfr:3338.03 org wel:-3039.30 new wel:-4558.95\n",
      "  ---  iter:5, sfr:2950.45 org wel:-4558.95 new wel:-4558.95\n",
      "  ---  iter:6, sfr:2627.54 org wel:-4558.95 new wel:-4558.95\n",
      "flow stress period,time step 3,1 converged with 7 iters, final sfr:2601.99\n",
      "  ---  iter:0, sfr:2601.25 org wel:-900.51 new wel:-900.51\n",
      "  ---  iter:1, sfr:3447.77 org wel:-900.51 new wel:-1350.77\n",
      "  ---  iter:2, sfr:3470.69 org wel:-1350.77 new wel:-2026.16\n",
      "  ---  iter:3, sfr:3457.49 org wel:-2026.16 new wel:-3039.24\n",
      "  ---  iter:4, sfr:3441.85 org wel:-3039.24 new wel:-4558.86\n",
      "  ---  iter:5, sfr:3038.32 org wel:-4558.86 new wel:-6838.28\n",
      "  ---  iter:6, sfr:3024.71 org wel:-6838.28 new wel:-10257.42\n",
      "  ---  iter:7, sfr:2241.14 org wel:-10257.42 new wel:-8205.94\n",
      "  ---  iter:8, sfr:1498.39 org wel:-8205.94 new wel:-6564.75\n",
      "  ---  iter:9, sfr:1797.72 org wel:-6564.75 new wel:-5251.80\n",
      "  ---  iter:10, sfr:2144.91 org wel:-5251.80 new wel:-4201.44\n",
      "  ---  iter:11, sfr:2444.47 org wel:-4201.44 new wel:-3361.15\n",
      "  ---  iter:12, sfr:2688.09 org wel:-3361.15 new wel:-3361.15\n",
      "  ---  iter:13, sfr:2884.19 org wel:-3361.15 new wel:-3361.15\n",
      "flow stress period,time step 4,1 converged with 14 iters, final sfr:2923.96\n",
      "  ---  iter:0, sfr:2927.90 org wel:-900.75 new wel:-900.75\n",
      "  ---  iter:1, sfr:3711.25 org wel:-900.75 new wel:-1351.12\n",
      "  ---  iter:2, sfr:3732.62 org wel:-1351.12 new wel:-2026.68\n",
      "  ---  iter:3, sfr:3719.44 org wel:-2026.68 new wel:-3040.03\n",
      "  ---  iter:4, sfr:3704.00 org wel:-3040.03 new wel:-4560.04\n",
      "  ---  iter:5, sfr:3307.11 org wel:-4560.04 new wel:-6840.06\n",
      "  ---  iter:6, sfr:3293.71 org wel:-6840.06 new wel:-10260.09\n",
      "  ---  iter:7, sfr:2523.94 org wel:-10260.09 new wel:-10260.09\n",
      "  ---  iter:8, sfr:1794.13 org wel:-10260.09 new wel:-8208.07\n",
      "  ---  iter:9, sfr:1774.90 org wel:-8208.07 new wel:-6566.46\n",
      "  ---  iter:10, sfr:2086.25 org wel:-6566.46 new wel:-5253.17\n",
      "  ---  iter:11, sfr:2430.55 org wel:-5253.17 new wel:-4202.53\n",
      "  ---  iter:12, sfr:2724.38 org wel:-4202.53 new wel:-4202.53\n",
      "  ---  iter:13, sfr:2963.85 org wel:-4202.53 new wel:-4202.53\n",
      "flow stress period,time step 5,1 converged with 14 iters, final sfr:3012.03\n",
      "  ---  iter:0, sfr:3016.89 org wel:-900.80 new wel:-1351.21\n",
      "  ---  iter:1, sfr:3668.97 org wel:-1351.21 new wel:-2026.81\n",
      "  ---  iter:2, sfr:3658.00 org wel:-2026.81 new wel:-3040.21\n",
      "  ---  iter:3, sfr:3643.26 org wel:-3040.21 new wel:-4560.32\n",
      "  ---  iter:4, sfr:3292.43 org wel:-4560.32 new wel:-6840.48\n",
      "  ---  iter:5, sfr:3277.24 org wel:-6840.48 new wel:-10260.72\n",
      "  ---  iter:6, sfr:2455.47 org wel:-10260.72 new wel:-8208.58\n",
      "  ---  iter:7, sfr:1707.69 org wel:-8208.58 new wel:-6566.86\n",
      "  ---  iter:8, sfr:2009.12 org wel:-6566.86 new wel:-5253.49\n",
      "  ---  iter:9, sfr:2357.38 org wel:-5253.49 new wel:-4202.79\n",
      "  ---  iter:10, sfr:2657.14 org wel:-4202.79 new wel:-4202.79\n",
      "  ---  iter:11, sfr:2901.39 org wel:-4202.79 new wel:-4202.79\n",
      "flow stress period,time step 6,1 converged with 12 iters, final sfr:2951.03\n",
      "  ---  iter:0, sfr:2955.80 org wel:-900.07 new wel:-900.07\n",
      "  ---  iter:1, sfr:3332.16 org wel:-900.07 new wel:-1350.10\n",
      "  ---  iter:2, sfr:3343.35 org wel:-1350.10 new wel:-2025.16\n",
      "  ---  iter:3, sfr:3330.10 org wel:-2025.16 new wel:-3037.74\n",
      "  ---  iter:4, sfr:3314.66 org wel:-3037.74 new wel:-4556.60\n",
      "  ---  iter:5, sfr:2918.45 org wel:-4556.60 new wel:-4556.60\n",
      "  ---  iter:6, sfr:2587.69 org wel:-4556.60 new wel:-4556.60\n",
      "flow stress period,time step 7,1 converged with 7 iters, final sfr:2562.81\n",
      "  ---  iter:0, sfr:2561.95 org wel:-900.61 new wel:-900.61\n",
      "  ---  iter:1, sfr:2697.69 org wel:-900.61 new wel:-900.61\n",
      "flow stress period,time step 8,1 converged with 2 iters, final sfr:2701.31\n",
      "  ---  iter:0, sfr:2701.25 org wel:-900.30 new wel:-900.30\n",
      "  ---  iter:1, sfr:2413.72 org wel:-900.30 new wel:-720.24\n",
      "  ---  iter:2, sfr:2401.76 org wel:-720.24 new wel:-576.19\n",
      "  ---  iter:3, sfr:2433.05 org wel:-576.19 new wel:-460.95\n",
      "  ---  iter:4, sfr:2464.58 org wel:-460.95 new wel:-368.76\n",
      "  ---  iter:5, sfr:2494.10 org wel:-368.76 new wel:-295.01\n",
      "  ---  iter:6, sfr:2514.33 org wel:-295.01 new wel:-295.01\n",
      "flow stress period,time step 9,1 converged with 7 iters, final sfr:2531.11\n",
      "  ---  iter:0, sfr:2531.63 org wel:-900.22 new wel:-900.22\n",
      "  ---  iter:1, sfr:2063.29 org wel:-900.22 new wel:-720.18\n",
      "  ---  iter:2, sfr:2047.88 org wel:-720.18 new wel:-576.14\n",
      "  ---  iter:3, sfr:2077.96 org wel:-576.14 new wel:-460.91\n",
      "  ---  iter:4, sfr:2108.67 org wel:-460.91 new wel:-368.73\n",
      "  ---  iter:5, sfr:2137.49 org wel:-368.73 new wel:-294.98\n",
      "  ---  iter:6, sfr:2157.27 org wel:-294.98 new wel:-235.99\n",
      "  ---  iter:7, sfr:2173.64 org wel:-235.99 new wel:-188.79\n",
      "flow stress period,time step 10,1 converged with 8 iters, final sfr:2186.69\n",
      "  ---  iter:0, sfr:2197.67 org wel:-900.86 new wel:-720.69\n",
      "  ---  iter:1, sfr:1761.21 org wel:-720.69 new wel:-576.55\n",
      "  ---  iter:2, sfr:1777.84 org wel:-576.55 new wel:-461.24\n",
      "  ---  iter:3, sfr:1806.89 org wel:-461.24 new wel:-368.99\n",
      "  ---  iter:4, sfr:1832.83 org wel:-368.99 new wel:-295.19\n",
      "  ---  iter:5, sfr:1855.61 org wel:-295.19 new wel:-236.16\n",
      "  ---  iter:6, sfr:1872.73 org wel:-236.16 new wel:-188.92\n",
      "flow stress period,time step 11,1 converged with 7 iters, final sfr:1886.06\n",
      "  ---  iter:0, sfr:1897.27 org wel:-900.62 new wel:-720.49\n",
      "  ---  iter:1, sfr:1685.94 org wel:-720.49 new wel:-576.39\n",
      "  ---  iter:2, sfr:1707.79 org wel:-576.39 new wel:-461.12\n",
      "  ---  iter:3, sfr:1737.13 org wel:-461.12 new wel:-368.89\n",
      "  ---  iter:4, sfr:1762.64 org wel:-368.89 new wel:-295.11\n",
      "  ---  iter:5, sfr:1784.98 org wel:-295.11 new wel:-236.09\n",
      "  ---  iter:6, sfr:1801.69 org wel:-236.09 new wel:-188.87\n",
      "flow stress period,time step 12,1 converged with 7 iters, final sfr:1814.72\n",
      "  ---  iter:0, sfr:1825.68 org wel:-900.78 new wel:-720.63\n",
      "  ---  iter:1, sfr:1913.98 org wel:-720.63 new wel:-576.50\n",
      "  ---  iter:2, sfr:1940.22 org wel:-576.50 new wel:-461.20\n",
      "  ---  iter:3, sfr:1982.94 org wel:-461.20 new wel:-368.96\n",
      "  ---  iter:4, sfr:2006.76 org wel:-368.96 new wel:-295.17\n",
      "  ---  iter:5, sfr:2027.92 org wel:-295.17 new wel:-236.13\n",
      "  ---  iter:6, sfr:2045.65 org wel:-236.13 new wel:-188.91\n",
      "flow stress period,time step 13,1 converged with 7 iters, final sfr:2058.58\n",
      "  ---  iter:0, sfr:2061.47 org wel:-900.76 new wel:-720.61\n",
      "  ---  iter:1, sfr:2424.05 org wel:-720.61 new wel:-576.49\n",
      "  ---  iter:2, sfr:2472.58 org wel:-576.49 new wel:-461.19\n",
      "  ---  iter:3, sfr:2504.68 org wel:-461.19 new wel:-461.19\n",
      "flow stress period,time step 14,1 converged with 4 iters, final sfr:2529.14\n",
      "  ---  iter:0, sfr:2530.64 org wel:-900.19 new wel:-900.19\n",
      "  ---  iter:1, sfr:3047.27 org wel:-900.19 new wel:-1350.28\n",
      "  ---  iter:2, sfr:3057.39 org wel:-1350.28 new wel:-2025.42\n",
      "  ---  iter:3, sfr:3045.39 org wel:-2025.42 new wel:-3038.13\n",
      "  ---  iter:4, sfr:3030.92 org wel:-3038.13 new wel:-4557.19\n",
      "  ---  iter:5, sfr:2656.29 org wel:-4557.19 new wel:-4557.19\n",
      "  ---  iter:6, sfr:2342.06 org wel:-4557.19 new wel:-3645.76\n",
      "  ---  iter:7, sfr:2317.76 org wel:-3645.76 new wel:-2916.60\n",
      "  ---  iter:8, sfr:2463.31 org wel:-2916.60 new wel:-2333.28\n",
      "  ---  iter:9, sfr:2611.87 org wel:-2333.28 new wel:-2333.28\n",
      "  ---  iter:10, sfr:2737.29 org wel:-2333.28 new wel:-2333.28\n",
      "flow stress period,time step 15,1 converged with 11 iters, final sfr:2761.89\n",
      "  ---  iter:0, sfr:2764.76 org wel:-900.20 new wel:-900.20\n",
      "  ---  iter:1, sfr:3508.55 org wel:-900.20 new wel:-1350.30\n",
      "  ---  iter:2, sfr:3528.83 org wel:-1350.30 new wel:-2025.45\n",
      "  ---  iter:3, sfr:3515.33 org wel:-2025.45 new wel:-3038.17\n",
      "  ---  iter:4, sfr:3499.57 org wel:-3038.17 new wel:-4557.26\n",
      "  ---  iter:5, sfr:3094.45 org wel:-4557.26 new wel:-6835.89\n",
      "  ---  iter:6, sfr:3080.84 org wel:-6835.89 new wel:-10253.83\n",
      "  ---  iter:7, sfr:2297.18 org wel:-10253.83 new wel:-8203.07\n",
      "  ---  iter:8, sfr:1554.36 org wel:-8203.07 new wel:-6562.45\n",
      "  ---  iter:9, sfr:1853.93 org wel:-6562.45 new wel:-5249.96\n",
      "  ---  iter:10, sfr:2201.11 org wel:-5249.96 new wel:-4199.97\n",
      "  ---  iter:11, sfr:2500.66 org wel:-4199.97 new wel:-4199.97\n",
      "  ---  iter:12, sfr:2744.21 org wel:-4199.97 new wel:-4199.97\n",
      "flow stress period,time step 16,1 converged with 13 iters, final sfr:2794.05\n",
      "  ---  iter:0, sfr:2798.83 org wel:-900.14 new wel:-900.14\n",
      "  ---  iter:1, sfr:3598.89 org wel:-900.14 new wel:-1350.21\n",
      "  ---  iter:2, sfr:3621.24 org wel:-1350.21 new wel:-2025.31\n",
      "  ---  iter:3, sfr:3608.10 org wel:-2025.31 new wel:-3037.97\n",
      "  ---  iter:4, sfr:3592.69 org wel:-3037.97 new wel:-4556.95\n",
      "  ---  iter:5, sfr:3196.53 org wel:-4556.95 new wel:-6835.43\n",
      "  ---  iter:6, sfr:3183.14 org wel:-6835.43 new wel:-10253.15\n",
      "  ---  iter:7, sfr:2414.71 org wel:-10253.15 new wel:-8202.52\n",
      "  ---  iter:8, sfr:1686.30 org wel:-8202.52 new wel:-6562.01\n",
      "  ---  iter:9, sfr:1981.19 org wel:-6562.01 new wel:-5249.61\n",
      "  ---  iter:10, sfr:2321.65 org wel:-5249.61 new wel:-4199.69\n",
      "  ---  iter:11, sfr:2614.45 org wel:-4199.69 new wel:-4199.69\n",
      "  ---  iter:12, sfr:2853.52 org wel:-4199.69 new wel:-4199.69\n",
      "flow stress period,time step 17,1 converged with 13 iters, final sfr:2902.23\n",
      "  ---  iter:0, sfr:2906.93 org wel:-900.87 new wel:-900.87\n",
      "  ---  iter:1, sfr:3567.97 org wel:-900.87 new wel:-1351.30\n",
      "  ---  iter:2, sfr:3586.51 org wel:-1351.30 new wel:-2026.95\n",
      "  ---  iter:3, sfr:3573.04 org wel:-2026.95 new wel:-3040.43\n",
      "  ---  iter:4, sfr:3557.27 org wel:-3040.43 new wel:-4560.64\n",
      "  ---  iter:5, sfr:3152.21 org wel:-4560.64 new wel:-6840.97\n",
      "  ---  iter:6, sfr:3138.56 org wel:-6840.97 new wel:-10261.45\n",
      "  ---  iter:7, sfr:2353.24 org wel:-10261.45 new wel:-8209.16\n"
     ]
    },
    {
     "name": "stdout",
     "output_type": "stream",
     "text": [
      "  ---  iter:8, sfr:1608.99 org wel:-8209.16 new wel:-6567.33\n",
      "  ---  iter:9, sfr:1909.70 org wel:-6567.33 new wel:-5253.86\n",
      "  ---  iter:10, sfr:2257.58 org wel:-5253.86 new wel:-4203.09\n",
      "  ---  iter:11, sfr:2557.19 org wel:-4203.09 new wel:-4203.09\n",
      "  ---  iter:12, sfr:2801.31 org wel:-4203.09 new wel:-4203.09\n",
      "flow stress period,time step 18,1 converged with 13 iters, final sfr:2851.16\n",
      "  ---  iter:0, sfr:2855.92 org wel:-900.36 new wel:-900.36\n",
      "  ---  iter:1, sfr:3239.78 org wel:-900.36 new wel:-1350.53\n",
      "  ---  iter:2, sfr:3251.35 org wel:-1350.53 new wel:-2025.80\n",
      "  ---  iter:3, sfr:3238.10 org wel:-2025.80 new wel:-3038.70\n",
      "  ---  iter:4, sfr:3222.67 org wel:-3038.70 new wel:-4558.05\n",
      "  ---  iter:5, sfr:2826.33 org wel:-4558.05 new wel:-4558.05\n",
      "  ---  iter:6, sfr:2496.27 org wel:-4558.05 new wel:-3646.44\n",
      "  ---  iter:7, sfr:2470.29 org wel:-3646.44 new wel:-2917.15\n",
      "  ---  iter:8, sfr:2623.69 org wel:-2917.15 new wel:-2917.15\n",
      "  ---  iter:9, sfr:2779.61 org wel:-2917.15 new wel:-2917.15\n",
      "flow stress period,time step 19,1 converged with 10 iters, final sfr:2811.26\n",
      "  ---  iter:0, sfr:2814.42 org wel:-900.76 new wel:-900.76\n",
      "  ---  iter:1, sfr:2837.62 org wel:-900.76 new wel:-900.76\n",
      "flow stress period,time step 20,1 converged with 2 iters, final sfr:2837.99\n",
      "  ---  iter:0, sfr:2838.00 org wel:-900.69 new wel:-900.69\n",
      "  ---  iter:1, sfr:2494.66 org wel:-900.69 new wel:-720.55\n",
      "  ---  iter:2, sfr:2481.51 org wel:-720.55 new wel:-576.44\n",
      "  ---  iter:3, sfr:2512.41 org wel:-576.44 new wel:-576.44\n",
      "flow stress period,time step 21,1 converged with 4 iters, final sfr:2543.92\n",
      "  ---  iter:0, sfr:2546.49 org wel:-900.25 new wel:-900.25\n",
      "  ---  iter:1, sfr:2069.75 org wel:-900.25 new wel:-720.20\n",
      "  ---  iter:2, sfr:2054.34 org wel:-720.20 new wel:-576.16\n",
      "  ---  iter:3, sfr:2084.33 org wel:-576.16 new wel:-460.93\n",
      "  ---  iter:4, sfr:2115.03 org wel:-460.93 new wel:-368.74\n",
      "  ---  iter:5, sfr:2143.84 org wel:-368.74 new wel:-295.00\n",
      "  ---  iter:6, sfr:2163.63 org wel:-295.00 new wel:-236.00\n",
      "  ---  iter:7, sfr:2180.00 org wel:-236.00 new wel:-188.80\n",
      "flow stress period,time step 22,1 converged with 8 iters, final sfr:2193.04\n",
      "  ---  iter:0, sfr:2204.03 org wel:-900.15 new wel:-720.12\n",
      "  ---  iter:1, sfr:1763.66 org wel:-720.12 new wel:-576.10\n",
      "  ---  iter:2, sfr:1780.54 org wel:-576.10 new wel:-460.88\n",
      "  ---  iter:3, sfr:1809.62 org wel:-460.88 new wel:-368.70\n",
      "  ---  iter:4, sfr:1835.54 org wel:-368.70 new wel:-294.96\n",
      "  ---  iter:5, sfr:1858.31 org wel:-294.96 new wel:-235.97\n",
      "  ---  iter:6, sfr:1875.41 org wel:-235.97 new wel:-188.78\n",
      "flow stress period,time step 23,1 converged with 7 iters, final sfr:1888.73\n",
      "  ---  iter:0, sfr:1899.93 org wel:-900.69 new wel:-720.55\n",
      "  ---  iter:1, sfr:1689.34 org wel:-720.55 new wel:-576.44\n",
      "  ---  iter:2, sfr:1711.35 org wel:-576.44 new wel:-461.15\n",
      "  ---  iter:3, sfr:1740.71 org wel:-461.15 new wel:-368.92\n",
      "  ---  iter:4, sfr:1766.24 org wel:-368.92 new wel:-295.14\n",
      "  ---  iter:5, sfr:1788.57 org wel:-295.14 new wel:-236.11\n",
      "  ---  iter:6, sfr:1805.29 org wel:-236.11 new wel:-188.89\n",
      "flow stress period,time step 24,1 converged with 7 iters, final sfr:1818.32\n",
      "  ---  iter:0, sfr:1829.28 org wel:-900.87 new wel:-720.70\n",
      "  ---  iter:1, sfr:2068.00 org wel:-720.70 new wel:-576.56\n",
      "  ---  iter:2, sfr:2112.49 org wel:-576.56 new wel:-461.25\n",
      "  ---  iter:3, sfr:2144.77 org wel:-461.25 new wel:-369.00\n",
      "  ---  iter:4, sfr:2169.33 org wel:-369.00 new wel:-295.20\n",
      "  ---  iter:5, sfr:2191.80 org wel:-295.20 new wel:-236.16\n",
      "flow stress period,time step 25,1 converged with 6 iters, final sfr:2207.76\n"
     ]
    }
   ],
   "source": [
    "# get current sim time\n",
    "ctime = gwf.get_current_time()\n",
    "# get ending sim time\n",
    "etime = gwf.get_end_time()\n",
    "# max number of iterations\n",
    "max_iter = gwf.get_value(gwf.get_var_address(\"MXITER\", \"SLN_1\"))\n",
    "# let's do it!\n",
    "while ctime < etime:\n",
    "    # the length of this sim time\n",
    "    dt = gwf.get_time_step()\n",
    "    # prep the current time step\n",
    "    gwf.prepare_time_step(dt)\n",
    "    kiter = 0\n",
    "    # prep to solve\n",
    "    gwf.prepare_solve(1)\n",
    "    # the current one-based stress period number\n",
    "    stress_period = gwf.get_value(gwf.get_var_address(\"KPER\", \"TDIS\"))[0]\n",
    "    time_step = gwf.get_value(gwf.get_var_address(\"KSTP\", \"TDIS\"))[0]\n",
    "    # solve until converged\n",
    "    while kiter < max_iter:\n",
    "        \n",
    "        # if we have solved at least once and the solution is converged\n",
    "        if gwf.solve(1) and kiter > 1:\n",
    "            # get the sfr dsflow rate for the last reach\n",
    "            addr = [\"DSFLOW\", \"FREYBERG6\", \"SFR_1\"]\n",
    "            wbaddr = gwf.get_var_address(*addr)\n",
    "            sfr_dsflow = gwf.get_value(wbaddr)\n",
    "            print(\"flow stress period,time step {0},{1} converged with {2} iters, final sfr:{3:5.2f}\".\\\n",
    "                  format(stress_period,time_step, kiter,sfr_dsflow[-1]))\n",
    "            break\n",
    "        \n",
    "        # get the sfr dsflow rate for the last reach\n",
    "        addr = [\"DSFLOW\", \"FREYBERG6\", \"SFR_1\"]\n",
    "        wbaddr = gwf.get_var_address(*addr)\n",
    "        sfr_dsflow = gwf.get_value(wbaddr)\n",
    "        \n",
    "        #get the wel extraction rates\n",
    "        \"FREYBERG6/WEL-1                   BOUND\"\n",
    "        addr = [\"BOUND\", \"FREYBERG6\", \"WEl-1\"]\n",
    "        wbaddr = gwf.get_var_address(*addr)\n",
    "        wel_bound = gwf.get_value_ptr(wbaddr)\n",
    "        org = np.sum(wel_bound)\n",
    "        \n",
    "        # if the flow is too low, turn down the wells\n",
    "        if sfr_dsflow[-1] < 2500:\n",
    "            wel_bound[:] *= 0.8\n",
    "        \n",
    "        #otherewise if there is extra flow, turn up the wells\n",
    "        elif sfr_dsflow[-1] > 3000:\n",
    "            wel_bound[:] *= 1.5\n",
    "        \n",
    "        print(\"  ---  iter:{0}, sfr:{1:5.2f} org wel:{2:5.2f} new wel:{3:5.2f}\".\\\n",
    "              format(kiter,sfr_dsflow[-1],org,np.sum(wel_bound)))\n",
    "        kiter += 1\n",
    "    try:\n",
    "        gwf.finalize_solve(1)\n",
    "    except:\n",
    "        pass\n",
    "    \n",
    "    \n",
    "    gwf.finalize_time_step()\n",
    "    # update current sim time\n",
    "    ctime = gwf.get_current_time()\n",
    "  "
   ]
  },
  {
   "cell_type": "markdown",
   "id": "9a85ad2d",
   "metadata": {},
   "source": [
    "Woah - that drastically increased the number of iterations - we are working the solver here with some strong nonlinearity!"
   ]
  },
  {
   "cell_type": "code",
   "execution_count": 11,
   "id": "6ebaab6d",
   "metadata": {},
   "outputs": [],
   "source": [
    "lst_org = flopy.utils.Mf6ListBudget(os.path.join(work_dir,\"freyberg6.lst\"))\n",
    "lst_api = flopy.utils.Mf6ListBudget(os.path.join(api_dir2,\"freyberg6.lst\"))"
   ]
  },
  {
   "cell_type": "code",
   "execution_count": 12,
   "id": "69f50d47",
   "metadata": {},
   "outputs": [],
   "source": [
    "oinc,ocum = lst_org.get_dataframes(diff=True)\n",
    "ainc,acum = lst_api.get_dataframes(diff=True)\n"
   ]
  },
  {
   "cell_type": "code",
   "execution_count": 13,
   "id": "006b032b",
   "metadata": {},
   "outputs": [
    {
     "data": {
      "text/plain": [
       "Text(0.5, 1.0, 'sw-gw flux')"
      ]
     },
     "execution_count": 13,
     "metadata": {},
     "output_type": "execute_result"
    },
    {
     "data": {
      "image/png": "[encoded data removed]",
      "text/plain": [
       "<Figure size 720x720 with 2 Axes>"
      ]
     },
     "metadata": {
      "needs_background": "light"
     },
     "output_type": "display_data"
    }
   ],
   "source": [
    "fig,axes = plt.subplots(2,1,figsize=(10,10))\n",
    "axes[0].plot(ainc.index,ainc.wel,color=\"r\",label=\"api\")\n",
    "axes[0].plot(oinc.index,oinc.wel,color=\"c\",label=\"org\")\n",
    "axes[1].plot(ainc.index,ainc.sfr,color=\"r\",label=\"api\")\n",
    "axes[1].plot(oinc.index,oinc.sfr,color=\"c\",label=\"org\")\n",
    "axes[0].legend()\n",
    "axes[0].set_title(\"well flux\")\n",
    "axes[1].legend()\n",
    "axes[1].set_title(\"sw-gw flux\")\n"
   ]
  },
  {
   "cell_type": "markdown",
   "id": "6ea3c842",
   "metadata": {},
   "source": [
    "We can see the effect of our \"management\" strategy:  substantially more gw is extracted during the wet season while less groundwater is extracted during the dry season compared to the original simulation (that used constant extraction).  And we see that this contributes to less groundwater contribution to surface water during the wet season."
   ]
  },
  {
   "cell_type": "code",
   "execution_count": null,
   "id": "15567058",
   "metadata": {},
   "outputs": [],
   "source": []
  }
 ],
 "metadata": {
  "kernelspec": {
   "display_name": "Python 3 (ipykernel)",
   "language": "python",
   "name": "python3"
  },
  "language_info": {
   "codemirror_mode": {
    "name": "ipython",
    "version": 3
   },
   "file_extension": ".py",
   "mimetype": "text/x-python",
   "name": "python",
   "nbconvert_exporter": "python",
   "pygments_lexer": "ipython3",
   "version": "3.8.2"
  }
 },
 "nbformat": 4,
 "nbformat_minor": 5
}
